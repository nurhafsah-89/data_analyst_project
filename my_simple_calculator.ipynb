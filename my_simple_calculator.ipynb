{
 "cells": [
  {
   "cell_type": "code",
   "execution_count": 5,
   "id": "18e021b8",
   "metadata": {},
   "outputs": [
    {
     "name": "stdout",
     "output_type": "stream",
     "text": [
      "Select operation:\n",
      "1. Add\n",
      "2. Subtract\n",
      "3 Multiply\n",
      "Divide\n",
      "Enter your choice (1/2/3/4):1\n",
      "Enter the first number:9\n",
      "Enter the second number1\n",
      "9.0 + 1.0 =10.0\n"
     ]
    }
   ],
   "source": [
    "#Simple Calculator by Hafsah\n",
    "\n",
    "#Function to add 2 numbers\n",
    "def add(x, y):\n",
    "    return x + y\n",
    "\n",
    "#Function to subtract 2 numbers\n",
    "def subtract(x, y):\n",
    "    return x-y\n",
    "\n",
    "#Function to multiply 2 numbers\n",
    "def multiply(x,y):\n",
    "    return x * y\n",
    "\n",
    "#Function to divide 2 numbers\n",
    "def divide(x,y):\n",
    "    return x / y\n",
    "\n",
    "#Display the menu options\n",
    "print(\"Select operation:\")\n",
    "print(\"1. Add\")\n",
    "print(\"2. Subtract\")\n",
    "print(\"3 Multiply\")\n",
    "print(\"Divide\")\n",
    "\n",
    "#Get user input for operation choice\n",
    "choice = input(\"Enter your choice (1/2/3/4):\")\n",
    "\n",
    "#Get user input for numbers\n",
    "num1 = float(input(\"Enter the first number:\"))\n",
    "num2 = float(input(\"Enter the second number\"))\n",
    "\n",
    "\n",
    "#Perform the selected operation\n",
    "if choice == '1':\n",
    "    result = add(num1, num2)\n",
    "    operation = \"+\"\n",
    "elif choice == '2':\n",
    "    result = subtract(num1, num2)\n",
    "    operation = \"-\"\n",
    "elif choice == '3':\n",
    "    result = multiply(num1, num2)\n",
    "    operation = \"*\"\n",
    "elif choise == '4':\n",
    "    result = divide(num1, num2)\n",
    "    operation = \"/\"\n",
    "    \n",
    "#Display the result\n",
    "print(f\"{num1} {operation} {num2} ={result}\")"
   ]
  },
  {
   "cell_type": "code",
   "execution_count": null,
   "id": "3201ff4c",
   "metadata": {},
   "outputs": [],
   "source": []
  },
  {
   "cell_type": "code",
   "execution_count": null,
   "id": "7437a992",
   "metadata": {},
   "outputs": [],
   "source": []
  }
 ],
 "metadata": {
  "kernelspec": {
   "display_name": "Python 3 (ipykernel)",
   "language": "python",
   "name": "python3"
  },
  "language_info": {
   "codemirror_mode": {
    "name": "ipython",
    "version": 3
   },
   "file_extension": ".py",
   "mimetype": "text/x-python",
   "name": "python",
   "nbconvert_exporter": "python",
   "pygments_lexer": "ipython3",
   "version": "3.10.9"
  }
 },
 "nbformat": 4,
 "nbformat_minor": 5
}
